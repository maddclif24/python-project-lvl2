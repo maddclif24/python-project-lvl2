{
 "cells": [
  {
   "cell_type": "code",
   "execution_count": 4,
   "metadata": {},
   "outputs": [],
   "source": [
    "import json"
   ]
  },
  {
   "cell_type": "code",
   "execution_count": 11,
   "metadata": {},
   "outputs": [],
   "source": [
    "file1 = open('file1.json', 'r')\n",
    "file2 = open('file2.json', 'r')"
   ]
  },
  {
   "cell_type": "code",
   "execution_count": 12,
   "metadata": {},
   "outputs": [],
   "source": [
    "json1 = json.load(file1)\n",
    "json2 = json.load(file2)"
   ]
  },
  {
   "cell_type": "code",
   "execution_count": 161,
   "metadata": {},
   "outputs": [
    {
     "data": {
      "text/plain": [
       "{'common': {'setting1': 'Value 1',\n",
       "  'setting2': 200,\n",
       "  'setting3': True,\n",
       "  'setting6': {'key': 'value', 'doge': {'wow': ''}}},\n",
       " 'group1': {'baz': 'bas', 'foo': 'bar', 'nest': {'key': 'value'}},\n",
       " 'group2': {'abc': 12345, 'deep': {'id': 45}}}"
      ]
     },
     "execution_count": 161,
     "metadata": {},
     "output_type": "execute_result"
    }
   ],
   "source": [
    "json1"
   ]
  },
  {
   "cell_type": "code",
   "execution_count": 162,
   "metadata": {
    "scrolled": true
   },
   "outputs": [
    {
     "data": {
      "text/plain": [
       "{'common': {'follow': False,\n",
       "  'setting1': 'Value 1',\n",
       "  'setting3': None,\n",
       "  'setting4': 'blah blah',\n",
       "  'setting5': {'key5': 'value5'},\n",
       "  'setting6': {'key': 'value', 'ops': 'vops', 'doge': {'wow': 'so much'}}},\n",
       " 'group1': {'foo': 'bar', 'baz': 'bars', 'nest': 'str'},\n",
       " 'group3': {'deep': {'id': {'number': 45}}, 'fee': 100500}}"
      ]
     },
     "execution_count": 162,
     "metadata": {},
     "output_type": "execute_result"
    }
   ],
   "source": [
    "json2"
   ]
  },
  {
   "cell_type": "code",
   "execution_count": 163,
   "metadata": {},
   "outputs": [],
   "source": [
    "def make_inner(json):\n",
    "    if isinstance(json, dict):\n",
    "        items = {}\n",
    "        for item in json:\n",
    "            items[item] = make_inner(json[item])\n",
    "        return {'type': 'dict', 'items': items}\n",
    "    return {'type': 'value', 'value': json}"
   ]
  },
  {
   "cell_type": "code",
   "execution_count": 164,
   "metadata": {},
   "outputs": [],
   "source": [
    "i1 = make_inner(json1)\n",
    "i2 = make_inner(json2)"
   ]
  },
  {
   "cell_type": "code",
   "execution_count": 165,
   "metadata": {},
   "outputs": [
    {
     "data": {
      "text/plain": [
       "{'type': 'dict',\n",
       " 'items': {'common': {'type': 'dict',\n",
       "   'items': {'setting1': {'type': 'value', 'value': 'Value 1'},\n",
       "    'setting2': {'type': 'value', 'value': 200},\n",
       "    'setting3': {'type': 'value', 'value': True},\n",
       "    'setting6': {'type': 'dict',\n",
       "     'items': {'key': {'type': 'value', 'value': 'value'},\n",
       "      'doge': {'type': 'dict',\n",
       "       'items': {'wow': {'type': 'value', 'value': ''}}}}}}},\n",
       "  'group1': {'type': 'dict',\n",
       "   'items': {'baz': {'type': 'value', 'value': 'bas'},\n",
       "    'foo': {'type': 'value', 'value': 'bar'},\n",
       "    'nest': {'type': 'dict',\n",
       "     'items': {'key': {'type': 'value', 'value': 'value'}}}}},\n",
       "  'group2': {'type': 'dict',\n",
       "   'items': {'abc': {'type': 'value', 'value': 12345},\n",
       "    'deep': {'type': 'dict',\n",
       "     'items': {'id': {'type': 'value', 'value': 45}}}}}}}"
      ]
     },
     "execution_count": 165,
     "metadata": {},
     "output_type": "execute_result"
    }
   ],
   "source": [
    "i1"
   ]
  },
  {
   "cell_type": "code",
   "execution_count": 166,
   "metadata": {},
   "outputs": [
    {
     "data": {
      "text/plain": [
       "{'type': 'dict',\n",
       " 'items': {'common': {'type': 'dict',\n",
       "   'items': {'follow': {'type': 'value', 'value': False},\n",
       "    'setting1': {'type': 'value', 'value': 'Value 1'},\n",
       "    'setting3': {'type': 'value', 'value': None},\n",
       "    'setting4': {'type': 'value', 'value': 'blah blah'},\n",
       "    'setting5': {'type': 'dict',\n",
       "     'items': {'key5': {'type': 'value', 'value': 'value5'}}},\n",
       "    'setting6': {'type': 'dict',\n",
       "     'items': {'key': {'type': 'value', 'value': 'value'},\n",
       "      'ops': {'type': 'value', 'value': 'vops'},\n",
       "      'doge': {'type': 'dict',\n",
       "       'items': {'wow': {'type': 'value', 'value': 'so much'}}}}}}},\n",
       "  'group1': {'type': 'dict',\n",
       "   'items': {'foo': {'type': 'value', 'value': 'bar'},\n",
       "    'baz': {'type': 'value', 'value': 'bars'},\n",
       "    'nest': {'type': 'value', 'value': 'str'}}},\n",
       "  'group3': {'type': 'dict',\n",
       "   'items': {'deep': {'type': 'dict',\n",
       "     'items': {'id': {'type': 'dict',\n",
       "       'items': {'number': {'type': 'value', 'value': 45}}}}},\n",
       "    'fee': {'type': 'value', 'value': 100500}}}}}"
      ]
     },
     "execution_count": 166,
     "metadata": {},
     "output_type": "execute_result"
    }
   ],
   "source": [
    "i2"
   ]
  },
  {
   "cell_type": "code",
   "execution_count": 190,
   "metadata": {},
   "outputs": [],
   "source": [
    "def merge(json1, json2):\n",
    "    if json1 is None or json2 is None:\n",
    "        res = {'type': 'diff'}\n",
    "        if json1 is not None:\n",
    "            res['old'] = json1\n",
    "        if json2 is not None:\n",
    "            res['new'] = json2\n",
    "        return res\n",
    "    \n",
    "    if json1['type'] == 'dict' and json2['type'] == 'dict':\n",
    "        res = {'type': 'dict'}\n",
    "        items = {}\n",
    "        for key in {*json1['items'], *json2['items']}:\n",
    "            items[key] = merge(json1['items'].get(key), json2['items'].get(key))\n",
    "        return {'type': 'dict',\n",
    "                'items': items}\n",
    "\n",
    "    res = {'type': 'diff'}\n",
    "    if json1 is not None:\n",
    "        res['old'] = json1\n",
    "    if json2 is not None:\n",
    "        res['new'] = json2\n",
    "    return res"
   ]
  },
  {
   "cell_type": "code",
   "execution_count": 269,
   "metadata": {},
   "outputs": [],
   "source": [
    "def merge(json1, json2):\n",
    "    if json1 is None and json2 is None:\n",
    "        return None\n",
    "    if json1 is None:\n",
    "        return {\n",
    "            'type': 'add',\n",
    "            'value': json2\n",
    "        }\n",
    "    if json2 is None:\n",
    "        return {\n",
    "            'type': 'del',\n",
    "            'value': json1\n",
    "        }\n",
    "        \n",
    "    \n",
    "    if json1['type'] == 'dict' and json2['type'] == 'dict':\n",
    "        res = {'type': 'dict'}\n",
    "        items = {}\n",
    "        for key in {*json1['items'], *json2['items']}:\n",
    "            items[key] = merge(json1['items'].get(key), json2['items'].get(key))\n",
    "        return {'type': 'dict',\n",
    "                'items': items}\n",
    "\n",
    "    if json1 == json2:\n",
    "        return json1\n",
    "    \n",
    "    return {\n",
    "        'type': 'diff',\n",
    "        'old': json1,\n",
    "        'new': json2\n",
    "    }"
   ]
  },
  {
   "cell_type": "code",
   "execution_count": 270,
   "metadata": {
    "scrolled": false
   },
   "outputs": [],
   "source": [
    "merged = merge(i1, i2)"
   ]
  },
  {
   "cell_type": "code",
   "execution_count": 271,
   "metadata": {},
   "outputs": [
    {
     "data": {
      "text/plain": [
       "{'type': 'dict',\n",
       " 'items': {'group3': {'type': 'add',\n",
       "   'value': {'type': 'dict',\n",
       "    'items': {'deep': {'type': 'dict',\n",
       "      'items': {'id': {'type': 'dict',\n",
       "        'items': {'number': {'type': 'value', 'value': 45}}}}},\n",
       "     'fee': {'type': 'value', 'value': 100500}}}},\n",
       "  'group2': {'type': 'del',\n",
       "   'value': {'type': 'dict',\n",
       "    'items': {'abc': {'type': 'value', 'value': 12345},\n",
       "     'deep': {'type': 'dict',\n",
       "      'items': {'id': {'type': 'value', 'value': 45}}}}}},\n",
       "  'group1': {'type': 'dict',\n",
       "   'items': {'nest': {'type': 'diff',\n",
       "     'old': {'type': 'dict',\n",
       "      'items': {'key': {'type': 'value', 'value': 'value'}}},\n",
       "     'new': {'type': 'value', 'value': 'str'}},\n",
       "    'baz': {'type': 'diff',\n",
       "     'old': {'type': 'value', 'value': 'bas'},\n",
       "     'new': {'type': 'value', 'value': 'bars'}},\n",
       "    'foo': {'type': 'value', 'value': 'bar'}}},\n",
       "  'common': {'type': 'dict',\n",
       "   'items': {'setting5': {'type': 'add',\n",
       "     'value': {'type': 'dict',\n",
       "      'items': {'key5': {'type': 'value', 'value': 'value5'}}}},\n",
       "    'setting4': {'type': 'add',\n",
       "     'value': {'type': 'value', 'value': 'blah blah'}},\n",
       "    'setting6': {'type': 'dict',\n",
       "     'items': {'ops': {'type': 'add',\n",
       "       'value': {'type': 'value', 'value': 'vops'}},\n",
       "      'key': {'type': 'value', 'value': 'value'},\n",
       "      'doge': {'type': 'dict',\n",
       "       'items': {'wow': {'type': 'diff',\n",
       "         'old': {'type': 'value', 'value': ''},\n",
       "         'new': {'type': 'value', 'value': 'so much'}}}}}},\n",
       "    'setting2': {'type': 'del', 'value': {'type': 'value', 'value': 200}},\n",
       "    'setting3': {'type': 'diff',\n",
       "     'old': {'type': 'value', 'value': True},\n",
       "     'new': {'type': 'value', 'value': None}},\n",
       "    'setting1': {'type': 'value', 'value': 'Value 1'},\n",
       "    'follow': {'type': 'add', 'value': {'type': 'value', 'value': False}}}}}}"
      ]
     },
     "execution_count": 271,
     "metadata": {},
     "output_type": "execute_result"
    }
   ],
   "source": [
    "merged"
   ]
  },
  {
   "cell_type": "code",
   "execution_count": 244,
   "metadata": {},
   "outputs": [],
   "source": [
    "def prune(tree):\n",
    "    if tree is None:\n",
    "        return None\n",
    "    if tree['type'] == 'dict' and len(tree['items']) == 0:\n",
    "        return None\n",
    "    if tree['type'] == 'diff' and 'old' not in tree:\n",
    "        return {'type': 'add', 'value': tree['new']}\n",
    "    if tree['type'] == 'diff' and 'new' not in tree:\n",
    "        return {'type': 'del', 'value': tree['old']}\n",
    "    if tree['type'] == 'diff' and tree['old'] == tree['new']:\n",
    "        return {'type': 'value', 'value': tree['old']}\n",
    "    if tree['type'] == 'dict':\n",
    "        items = {}\n",
    "        for item in tree['items']:\n",
    "            items[item] = prune(tree['items'][item])\n",
    "        return {'type': 'dict', 'items': items}\n",
    "    return tree"
   ]
  },
  {
   "cell_type": "code",
   "execution_count": 245,
   "metadata": {},
   "outputs": [],
   "source": [
    "pruned = prune(merged)"
   ]
  },
  {
   "cell_type": "code",
   "execution_count": 263,
   "metadata": {},
   "outputs": [
    {
     "data": {
      "text/plain": [
       "{'type': 'dict',\n",
       " 'items': {'group3': {'type': 'add',\n",
       "   'value': {'type': 'dict',\n",
       "    'items': {'deep': {'type': 'dict',\n",
       "      'items': {'id': {'type': 'dict',\n",
       "        'items': {'number': {'type': 'value', 'value': 45}}}}},\n",
       "     'fee': {'type': 'value', 'value': 100500}}}},\n",
       "  'group2': {'type': 'del',\n",
       "   'value': {'type': 'dict',\n",
       "    'items': {'abc': {'type': 'value', 'value': 12345},\n",
       "     'deep': {'type': 'dict',\n",
       "      'items': {'id': {'type': 'value', 'value': 45}}}}}},\n",
       "  'group1': {'type': 'dict',\n",
       "   'items': {'nest': {'type': 'diff',\n",
       "     'old': {'type': 'dict',\n",
       "      'items': {'key': {'type': 'value', 'value': 'value'}}},\n",
       "     'new': {'type': 'value', 'value': 'str'}},\n",
       "    'baz': {'type': 'diff',\n",
       "     'old': {'type': 'value', 'value': 'bas'},\n",
       "     'new': {'type': 'value', 'value': 'bars'}},\n",
       "    'foo': {'type': 'value', 'value': {'type': 'value', 'value': 'bar'}}}},\n",
       "  'common': {'type': 'dict',\n",
       "   'items': {'setting5': {'type': 'add',\n",
       "     'value': {'type': 'dict',\n",
       "      'items': {'key5': {'type': 'value', 'value': 'value5'}}}},\n",
       "    'setting4': {'type': 'add',\n",
       "     'value': {'type': 'value', 'value': 'blah blah'}},\n",
       "    'setting6': {'type': 'dict',\n",
       "     'items': {'ops': {'type': 'add',\n",
       "       'value': {'type': 'value', 'value': 'vops'}},\n",
       "      'key': {'type': 'value', 'value': {'type': 'value', 'value': 'value'}},\n",
       "      'doge': {'type': 'dict',\n",
       "       'items': {'wow': {'type': 'diff',\n",
       "         'old': {'type': 'value', 'value': ''},\n",
       "         'new': {'type': 'value', 'value': 'so much'}}}}}},\n",
       "    'setting2': {'type': 'del', 'value': {'type': 'value', 'value': 200}},\n",
       "    'setting3': {'type': 'diff',\n",
       "     'old': {'type': 'value', 'value': True},\n",
       "     'new': {'type': 'value', 'value': None}},\n",
       "    'setting1': {'type': 'value',\n",
       "     'value': {'type': 'value', 'value': 'Value 1'}},\n",
       "    'follow': {'type': 'add', 'value': {'type': 'value', 'value': False}}}}}}"
      ]
     },
     "execution_count": 263,
     "metadata": {},
     "output_type": "execute_result"
    }
   ],
   "source": [
    "pruned"
   ]
  },
  {
   "cell_type": "code",
   "execution_count": 264,
   "metadata": {},
   "outputs": [
    {
     "data": {
      "text/plain": [
       "{'type': 'dict',\n",
       " 'items': {'group3': {'type': 'diff',\n",
       "   'new': {'type': 'dict',\n",
       "    'items': {'deep': {'type': 'dict',\n",
       "      'items': {'id': {'type': 'dict',\n",
       "        'items': {'number': {'type': 'value', 'value': 45}}}}},\n",
       "     'fee': {'type': 'value', 'value': 100500}}}},\n",
       "  'group2': {'type': 'diff',\n",
       "   'old': {'type': 'dict',\n",
       "    'items': {'abc': {'type': 'value', 'value': 12345},\n",
       "     'deep': {'type': 'dict',\n",
       "      'items': {'id': {'type': 'value', 'value': 45}}}}}},\n",
       "  'group1': {'type': 'dict',\n",
       "   'items': {'nest': {'type': 'diff',\n",
       "     'old': {'type': 'dict',\n",
       "      'items': {'key': {'type': 'value', 'value': 'value'}}},\n",
       "     'new': {'type': 'value', 'value': 'str'}},\n",
       "    'baz': {'type': 'diff',\n",
       "     'old': {'type': 'value', 'value': 'bas'},\n",
       "     'new': {'type': 'value', 'value': 'bars'}},\n",
       "    'foo': {'type': 'diff',\n",
       "     'old': {'type': 'value', 'value': 'bar'},\n",
       "     'new': {'type': 'value', 'value': 'bar'}}}},\n",
       "  'common': {'type': 'dict',\n",
       "   'items': {'setting5': {'type': 'diff',\n",
       "     'new': {'type': 'dict',\n",
       "      'items': {'key5': {'type': 'value', 'value': 'value5'}}}},\n",
       "    'setting4': {'type': 'diff',\n",
       "     'new': {'type': 'value', 'value': 'blah blah'}},\n",
       "    'setting6': {'type': 'dict',\n",
       "     'items': {'ops': {'type': 'diff',\n",
       "       'new': {'type': 'value', 'value': 'vops'}},\n",
       "      'key': {'type': 'diff',\n",
       "       'old': {'type': 'value', 'value': 'value'},\n",
       "       'new': {'type': 'value', 'value': 'value'}},\n",
       "      'doge': {'type': 'dict',\n",
       "       'items': {'wow': {'type': 'diff',\n",
       "         'old': {'type': 'value', 'value': ''},\n",
       "         'new': {'type': 'value', 'value': 'so much'}}}}}},\n",
       "    'setting2': {'type': 'diff', 'old': {'type': 'value', 'value': 200}},\n",
       "    'setting3': {'type': 'diff',\n",
       "     'old': {'type': 'value', 'value': True},\n",
       "     'new': {'type': 'value', 'value': None}},\n",
       "    'setting1': {'type': 'diff',\n",
       "     'old': {'type': 'value', 'value': 'Value 1'},\n",
       "     'new': {'type': 'value', 'value': 'Value 1'}},\n",
       "    'follow': {'type': 'diff', 'new': {'type': 'value', 'value': False}}}}}}"
      ]
     },
     "execution_count": 264,
     "metadata": {},
     "output_type": "execute_result"
    }
   ],
   "source": [
    "merged"
   ]
  },
  {
   "cell_type": "code",
   "execution_count": 365,
   "metadata": {},
   "outputs": [],
   "source": [
    "def render(tree):\n",
    "    def render_dict(tree, ts=0):\n",
    "        res = ''\n",
    "        for key in sorted(tree['items'].keys()):\n",
    "            item = tree['items'][key]\n",
    "            if item['type'] == 'value':\n",
    "                res += render_val(key, item, ts)\n",
    "            if item['type'] == 'del':\n",
    "                res += render_del(key, item, ts)\n",
    "            if item['type'] == 'add':\n",
    "                res += render_add(key, item, ts)\n",
    "            if item['type'] == 'diff':\n",
    "                res += render_diff(key, item, ts)\n",
    "            if item['type'] == 'dict':\n",
    "                res += ' '*ts + '    ' + str(key) + ': '\n",
    "                res += render_ts(item, ts + 4)\n",
    "        return res\n",
    "    \n",
    "    def render_val(key, val, ts):\n",
    "        res = ' '*ts + '    ' + str(key) + ': '\n",
    "        res += render_ts(val, ts + 4)\n",
    "        return res\n",
    "    \n",
    "    def render_del(key, val, ts):\n",
    "        res = ' '*ts + '  - ' + str(key) + ': '\n",
    "        res += render_ts(val['value'], ts + 4)\n",
    "        return res\n",
    "    \n",
    "    def render_add(key, val, ts):\n",
    "        res = ' '*ts + '  + ' + str(key) + ': '\n",
    "        res += render_ts(val['value'], ts + 4)\n",
    "        return res\n",
    "    \n",
    "    def render_diff(key, val, ts):\n",
    "        res = ' '*ts + '  - ' + str(key) + ': '\n",
    "        res += render_ts(val['old'], ts + 4)\n",
    "        res += ' '*ts + '  + ' + str(key) + ': '\n",
    "        res += render_ts(val['new'], ts + 4)\n",
    "        return res\n",
    "    \n",
    "    def render_ts(tree, ts=0):\n",
    "        res = ''\n",
    "        if tree['type'] == 'dict':\n",
    "            res += '{\\n'\n",
    "            res += render_dict(tree, ts)\n",
    "            res += ' '*ts + '}\\n'\n",
    "            return res\n",
    "        \n",
    "        if tree['type'] in ['value', 'add', 'del']:\n",
    "            res += str(tree['value'])\n",
    "            res += '\\n'\n",
    "            return res\n",
    "\n",
    "        return res\n",
    "    return render_ts(tree, 0)"
   ]
  },
  {
   "cell_type": "code",
   "execution_count": 366,
   "metadata": {},
   "outputs": [
    {
     "name": "stdout",
     "output_type": "stream",
     "text": [
      "{\n",
      "    common: {\n",
      "      + follow: False\n",
      "        setting1: Value 1\n",
      "      - setting2: 200\n",
      "      - setting3: True\n",
      "      + setting3: None\n",
      "      + setting4: blah blah\n",
      "      + setting5: {\n",
      "            key5: value5\n",
      "        }\n",
      "        setting6: {\n",
      "            doge: {\n",
      "              - wow: \n",
      "              + wow: so much\n",
      "            }\n",
      "            key: value\n",
      "          + ops: vops\n",
      "        }\n",
      "    }\n",
      "    group1: {\n",
      "      - baz: bas\n",
      "      + baz: bars\n",
      "        foo: bar\n",
      "      - nest: {\n",
      "            key: value\n",
      "        }\n",
      "      + nest: str\n",
      "    }\n",
      "  - group2: {\n",
      "        abc: 12345\n",
      "        deep: {\n",
      "            id: 45\n",
      "        }\n",
      "    }\n",
      "  + group3: {\n",
      "        deep: {\n",
      "            id: {\n",
      "                number: 45\n",
      "            }\n",
      "        }\n",
      "        fee: 100500\n",
      "    }\n",
      "}\n",
      "\n"
     ]
    }
   ],
   "source": [
    "print(render(merged))"
   ]
  },
  {
   "cell_type": "code",
   "execution_count": 354,
   "metadata": {},
   "outputs": [
    {
     "data": {
      "text/plain": [
       "{'type': 'dict',\n",
       " 'items': {'group3': {'type': 'add',\n",
       "   'value': {'type': 'dict',\n",
       "    'items': {'deep': {'type': 'dict',\n",
       "      'items': {'id': {'type': 'dict',\n",
       "        'items': {'number': {'type': 'value', 'value': 45}}}}},\n",
       "     'fee': {'type': 'value', 'value': 100500}}}},\n",
       "  'group2': {'type': 'del',\n",
       "   'value': {'type': 'dict',\n",
       "    'items': {'abc': {'type': 'value', 'value': 12345},\n",
       "     'deep': {'type': 'dict',\n",
       "      'items': {'id': {'type': 'value', 'value': 45}}}}}},\n",
       "  'group1': {'type': 'dict',\n",
       "   'items': {'nest': {'type': 'diff',\n",
       "     'old': {'type': 'dict',\n",
       "      'items': {'key': {'type': 'value', 'value': 'value'}}},\n",
       "     'new': {'type': 'value', 'value': 'str'}},\n",
       "    'baz': {'type': 'diff',\n",
       "     'old': {'type': 'value', 'value': 'bas'},\n",
       "     'new': {'type': 'value', 'value': 'bars'}},\n",
       "    'foo': {'type': 'value', 'value': 'bar'}}},\n",
       "  'common': {'type': 'dict',\n",
       "   'items': {'setting5': {'type': 'add',\n",
       "     'value': {'type': 'dict',\n",
       "      'items': {'key5': {'type': 'value', 'value': 'value5'}}}},\n",
       "    'setting4': {'type': 'add',\n",
       "     'value': {'type': 'value', 'value': 'blah blah'}},\n",
       "    'setting6': {'type': 'dict',\n",
       "     'items': {'ops': {'type': 'add',\n",
       "       'value': {'type': 'value', 'value': 'vops'}},\n",
       "      'key': {'type': 'value', 'value': 'value'},\n",
       "      'doge': {'type': 'dict',\n",
       "       'items': {'wow': {'type': 'diff',\n",
       "         'old': {'type': 'value', 'value': ''},\n",
       "         'new': {'type': 'value', 'value': 'so much'}}}}}},\n",
       "    'setting2': {'type': 'del', 'value': {'type': 'value', 'value': 200}},\n",
       "    'setting3': {'type': 'diff',\n",
       "     'old': {'type': 'value', 'value': True},\n",
       "     'new': {'type': 'value', 'value': None}},\n",
       "    'setting1': {'type': 'value', 'value': 'Value 1'},\n",
       "    'follow': {'type': 'add', 'value': {'type': 'value', 'value': False}}}}}}"
      ]
     },
     "execution_count": 354,
     "metadata": {},
     "output_type": "execute_result"
    }
   ],
   "source": [
    "merged"
   ]
  },
  {
   "cell_type": "code",
   "execution_count": 321,
   "metadata": {},
   "outputs": [
    {
     "data": {
      "text/plain": [
       "{'type': 'dict',\n",
       " 'items': {'group3': {'type': 'add',\n",
       "   'value': {'type': 'dict',\n",
       "    'items': {'deep': {'type': 'dict',\n",
       "      'items': {'id': {'type': 'dict',\n",
       "        'items': {'number': {'type': 'value', 'value': 45}}}}},\n",
       "     'fee': {'type': 'value', 'value': 100500}}}},\n",
       "  'group2': {'type': 'del',\n",
       "   'value': {'type': 'dict',\n",
       "    'items': {'abc': {'type': 'value', 'value': 12345},\n",
       "     'deep': {'type': 'dict',\n",
       "      'items': {'id': {'type': 'value', 'value': 45}}}}}},\n",
       "  'group1': {'type': 'dict',\n",
       "   'items': {'nest': {'type': 'diff',\n",
       "     'old': {'type': 'dict',\n",
       "      'items': {'key': {'type': 'value', 'value': 'value'}}},\n",
       "     'new': {'type': 'value', 'value': 'str'}},\n",
       "    'baz': {'type': 'diff',\n",
       "     'old': {'type': 'value', 'value': 'bas'},\n",
       "     'new': {'type': 'value', 'value': 'bars'}},\n",
       "    'foo': {'type': 'value', 'value': 'bar'}}},\n",
       "  'common': {'type': 'dict',\n",
       "   'items': {'setting5': {'type': 'add',\n",
       "     'value': {'type': 'dict',\n",
       "      'items': {'key5': {'type': 'value', 'value': 'value5'}}}},\n",
       "    'setting4': {'type': 'add',\n",
       "     'value': {'type': 'value', 'value': 'blah blah'}},\n",
       "    'setting6': {'type': 'dict',\n",
       "     'items': {'ops': {'type': 'add',\n",
       "       'value': {'type': 'value', 'value': 'vops'}},\n",
       "      'key': {'type': 'value', 'value': 'value'},\n",
       "      'doge': {'type': 'dict',\n",
       "       'items': {'wow': {'type': 'diff',\n",
       "         'old': {'type': 'value', 'value': ''},\n",
       "         'new': {'type': 'value', 'value': 'so much'}}}}}},\n",
       "    'setting2': {'type': 'del', 'value': {'type': 'value', 'value': 200}},\n",
       "    'setting3': {'type': 'diff',\n",
       "     'old': {'type': 'value', 'value': True},\n",
       "     'new': {'type': 'value', 'value': None}},\n",
       "    'setting1': {'type': 'value', 'value': 'Value 1'},\n",
       "    'follow': {'type': 'add', 'value': {'type': 'value', 'value': False}}}}}}"
      ]
     },
     "execution_count": 321,
     "metadata": {},
     "output_type": "execute_result"
    }
   ],
   "source": [
    "merged"
   ]
  },
  {
   "cell_type": "code",
   "execution_count": null,
   "metadata": {},
   "outputs": [],
   "source": [
    "types = ['value', 'dict', 'diff', 'add', 'del']"
   ]
  },
  {
   "cell_type": "code",
   "execution_count": 21,
   "metadata": {},
   "outputs": [],
   "source": [
    "def make_tree(node_old, node_new):\n",
    "    if (not isinstance(node_old, dict) and\n",
    "        not isinstance(node_new, dict)):\n",
    "        if node_old == node_new:\n",
    "            return {'type': 'value',\n",
    "                    'value': node_old}\n",
    "        "
   ]
  },
  {
   "cell_type": "code",
   "execution_count": 110,
   "metadata": {},
   "outputs": [],
   "source": [
    "def make_tree(node_old, node_new):\n",
    "    # Проверим для начала, нужно ли нам в структуру влезать\n",
    "    if not (isinstance(node_old, dict) and\n",
    "            isinstance(node_new, dict)):\n",
    "        # В данном случае нет, значит достаточно выплюнуть дифф\n",
    "        return {'type': 'value',\n",
    "                'old': node_old,\n",
    "                'new': node_new}\n",
    "    \n",
    "    old_keys = {*node_old.keys()}\n",
    "    new_keys = {*node_new.keys()}\n",
    "    keys = old_keys | new_keys\n",
    "\n",
    "    dictdiff = {}\n",
    "    for key in keys:\n",
    "        if not (key in old_keys and key in new_keys):\n",
    "            if key in old_keys:\n",
    "                dictdiff[key] = {'type': 'remove',\n",
    "                                 'old': node_old[key]}\n",
    "            else:\n",
    "                dictdiff[key] = {'type': 'add',\n",
    "                                 'new': node_new[key]}\n",
    "        value_old = node_old[key]\n",
    "        value_new = node_new[key]\n",
    "        dictdiff[key] = make_tree(value_old, value_new)\n",
    "    \n",
    "    return {'type': 'dictdiff',\n",
    "            'dictdiff': dictdiff}"
   ]
  },
  {
   "cell_type": "code",
   "execution_count": null,
   "metadata": {},
   "outputs": [],
   "source": []
  },
  {
   "cell_type": "code",
   "execution_count": 111,
   "metadata": {},
   "outputs": [
    {
     "ename": "KeyError",
     "evalue": "'group3'",
     "output_type": "error",
     "traceback": [
      "\u001b[0;31m---------------------------------------------------------------------------\u001b[0m",
      "\u001b[0;31mKeyError\u001b[0m                                  Traceback (most recent call last)",
      "\u001b[0;32m<ipython-input-111-86c02ba844a7>\u001b[0m in \u001b[0;36m<module>\u001b[0;34m\u001b[0m\n\u001b[0;32m----> 1\u001b[0;31m \u001b[0mmake_tree\u001b[0m\u001b[0;34m(\u001b[0m\u001b[0mjson1\u001b[0m\u001b[0;34m,\u001b[0m \u001b[0mjson2\u001b[0m\u001b[0;34m)\u001b[0m\u001b[0;34m\u001b[0m\u001b[0;34m\u001b[0m\u001b[0m\n\u001b[0m",
      "\u001b[0;32m<ipython-input-110-58d13ff9040b>\u001b[0m in \u001b[0;36mmake_tree\u001b[0;34m(node_old, node_new)\u001b[0m\n\u001b[1;32m     21\u001b[0m                 dictdiff[key] = {'type': 'add',\n\u001b[1;32m     22\u001b[0m                                  'new': node_new[key]}\n\u001b[0;32m---> 23\u001b[0;31m         \u001b[0mvalue_old\u001b[0m \u001b[0;34m=\u001b[0m \u001b[0mnode_old\u001b[0m\u001b[0;34m[\u001b[0m\u001b[0mkey\u001b[0m\u001b[0;34m]\u001b[0m\u001b[0;34m\u001b[0m\u001b[0;34m\u001b[0m\u001b[0m\n\u001b[0m\u001b[1;32m     24\u001b[0m         \u001b[0mvalue_new\u001b[0m \u001b[0;34m=\u001b[0m \u001b[0mnode_new\u001b[0m\u001b[0;34m[\u001b[0m\u001b[0mkey\u001b[0m\u001b[0;34m]\u001b[0m\u001b[0;34m\u001b[0m\u001b[0;34m\u001b[0m\u001b[0m\n\u001b[1;32m     25\u001b[0m         \u001b[0mdictdiff\u001b[0m\u001b[0;34m[\u001b[0m\u001b[0mkey\u001b[0m\u001b[0;34m]\u001b[0m \u001b[0;34m=\u001b[0m \u001b[0mmake_tree\u001b[0m\u001b[0;34m(\u001b[0m\u001b[0mvalue_old\u001b[0m\u001b[0;34m,\u001b[0m \u001b[0mvalue_new\u001b[0m\u001b[0;34m)\u001b[0m\u001b[0;34m\u001b[0m\u001b[0;34m\u001b[0m\u001b[0m\n",
      "\u001b[0;31mKeyError\u001b[0m: 'group3'"
     ]
    }
   ],
   "source": [
    "make_tree(json1, json2)"
   ]
  },
  {
   "cell_type": "code",
   "execution_count": 31,
   "metadata": {},
   "outputs": [],
   "source": [
    "diff = make_tree(json1, json2)"
   ]
  },
  {
   "cell_type": "code",
   "execution_count": 101,
   "metadata": {},
   "outputs": [],
   "source": [
    "def render_stylish(diff):\n",
    "    def render_diff(diff, tabstop=0):\n",
    "        res = ''\n",
    "        if diff['old'] == diff['new']:\n",
    "            return ' ' * tabstop + '    ' + str(diff['old']) + '\\n'\n",
    "        if diff['old'] is not None:\n",
    "            res += ' ' * tabstop + '  - ' + str(diff['old']) + '\\n'\n",
    "        if diff['new'] is not None:\n",
    "            res += ' ' * tabstop + '  + ' + str(diff['new']) + '\\n'\n",
    "        return res\n",
    "    \n",
    "    def render_dictdiff(diff, tabstop=0):\n",
    "        res = ''\n",
    "        diff = diff['dictdiff']\n",
    "        \n",
    "        return res\n",
    "    \n",
    "    def render(diff, tabstop=0):\n",
    "        res = ''\n",
    "        if diff['type'] == 'diff':\n",
    "            res += render_diff(diff, tabstop + 4)\n",
    "        if diff['type'] == 'dictdiff':\n",
    "            res += render_dictdiff(diff, tabstop + 4)\n",
    "        return res\n",
    "    return render(diff, 0)"
   ]
  },
  {
   "cell_type": "code",
   "execution_count": 102,
   "metadata": {},
   "outputs": [
    {
     "name": "stdout",
     "output_type": "stream",
     "text": [
      "\n"
     ]
    }
   ],
   "source": [
    "print(render_stylish(diff))"
   ]
  },
  {
   "cell_type": "code",
   "execution_count": 61,
   "metadata": {},
   "outputs": [],
   "source": [
    "def render_stylish(diff):\n",
    "    def render(diff, tabstop=0):\n",
    "        if diff['type'] == 'diff':\n",
    "            if diff['old'] == diff['new']:\n",
    "                print(' '*tabstop, '    ', diff['old'], sep='')\n",
    "            else:\n",
    "                if diff['old'] is not None:\n",
    "                    print(' '*tabstop, '  - ', diff['old'], sep='')\n",
    "                if diff['new'] is not None:\n",
    "                    print(' '*tabstop, '  + ', diff['new'], sep='')\n",
    "        if diff['type'] == 'dictdiff':\n",
    "            print(f\"{' '*tabstop}{{\")\n",
    "            keys = sorted(diff['dictdiff'].keys())\n",
    "            for key in keys:\n",
    "                print(' '*tabstop, f\"{key}:\", sep='')\n",
    "                render(diff['dictdiff'][key], tabstop=tabstop+4)\n",
    "            print(' '*tabstop, '}')\n",
    "    render(diff, 0)"
   ]
  },
  {
   "cell_type": "code",
   "execution_count": 62,
   "metadata": {},
   "outputs": [
    {
     "name": "stdout",
     "output_type": "stream",
     "text": [
      "{\n",
      "common:\n",
      "    {\n",
      "    follow:\n",
      "          + False\n",
      "    setting1:\n",
      "            Value 1\n",
      "    setting2:\n",
      "          - 200\n",
      "    setting3:\n",
      "          - True\n",
      "    setting4:\n",
      "          + blah blah\n",
      "    setting5:\n",
      "          + {'key5': 'value5'}\n",
      "    setting6:\n",
      "        {\n",
      "        doge:\n",
      "            {\n",
      "            wow:\n",
      "                  - \n",
      "                  + so much\n",
      "             }\n",
      "        key:\n",
      "                value\n",
      "        ops:\n",
      "              + vops\n",
      "         }\n",
      "     }\n",
      "group1:\n",
      "    {\n",
      "    baz:\n",
      "          - bas\n",
      "          + bars\n",
      "    foo:\n",
      "            bar\n",
      "    nest:\n",
      "          - {'key': 'value'}\n",
      "          + str\n",
      "     }\n",
      "group2:\n",
      "      - {'abc': 12345, 'deep': {'id': 45}}\n",
      "group3:\n",
      "      + {'deep': {'id': {'number': 45}}, 'fee': 100500}\n",
      " }\n"
     ]
    }
   ],
   "source": [
    "render_stylish(diff)"
   ]
  },
  {
   "cell_type": "code",
   "execution_count": 33,
   "metadata": {},
   "outputs": [
    {
     "data": {
      "text/plain": [
       "{'common': {'setting1': 'Value 1',\n",
       "  'setting2': 200,\n",
       "  'setting3': True,\n",
       "  'setting6': {'key': 'value', 'doge': {'wow': ''}}},\n",
       " 'group1': {'baz': 'bas', 'foo': 'bar', 'nest': {'key': 'value'}},\n",
       " 'group2': {'abc': 12345, 'deep': {'id': 45}}}"
      ]
     },
     "execution_count": 33,
     "metadata": {},
     "output_type": "execute_result"
    }
   ],
   "source": [
    "json1"
   ]
  },
  {
   "cell_type": "code",
   "execution_count": 34,
   "metadata": {},
   "outputs": [
    {
     "data": {
      "text/plain": [
       "{'common': {'follow': False,\n",
       "  'setting1': 'Value 1',\n",
       "  'setting3': None,\n",
       "  'setting4': 'blah blah',\n",
       "  'setting5': {'key5': 'value5'},\n",
       "  'setting6': {'key': 'value', 'ops': 'vops', 'doge': {'wow': 'so much'}}},\n",
       " 'group1': {'foo': 'bar', 'baz': 'bars', 'nest': 'str'},\n",
       " 'group3': {'deep': {'id': {'number': 45}}, 'fee': 100500}}"
      ]
     },
     "execution_count": 34,
     "metadata": {},
     "output_type": "execute_result"
    }
   ],
   "source": [
    "json2"
   ]
  },
  {
   "cell_type": "code",
   "execution_count": null,
   "metadata": {},
   "outputs": [],
   "source": [
    "{\n",
    "    'type': 'dictdiff',\n",
    "    'dictdiff': \n",
    "}"
   ]
  }
 ],
 "metadata": {
  "kernelspec": {
   "display_name": "Python 3",
   "language": "python",
   "name": "python3"
  },
  "language_info": {
   "codemirror_mode": {
    "name": "ipython",
    "version": 3
   },
   "file_extension": ".py",
   "mimetype": "text/x-python",
   "name": "python",
   "nbconvert_exporter": "python",
   "pygments_lexer": "ipython3",
   "version": "3.9.2"
  }
 },
 "nbformat": 4,
 "nbformat_minor": 4
}
